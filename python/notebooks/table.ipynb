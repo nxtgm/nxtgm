{
    "cells": [
  {
   "cell_type": "code",
   "execution_count": null,
   "id": "6dc7a217-07c7-414b-8879-b14db14b8d9b",
   "metadata": {},
   "outputs": [],
   "source": [
    "import os\n",
    "import sys\n",
    "if sys.platform == \"emscripten\":\n",
    "    os.environ[\"CONDA_PREFIX\"] = \"/\"\n",
    "else:\n",
    "    from pathlib import Path\n",
    "    notebook_dir = Path(os.getcwd())\n",
    "    module_dir = (notebook_dir/ \"..\" / \"module\").resolve()\n",
    "    sys.path.append(str(module_dir))\n",
    "    os.environ[\"NXTGM_PLUGIN_PATH\"] = str(notebook_dir/\"..\"/\"..\"/\"bld\"/\"src\"/\"nxtgm\"/\"plugins\");"
   ]
  },
  { 
   "cell_type": "markdown",
   "id": "ec0c668f-8a11-440b-ba9d-c7ef461833e9",
   "metadata": {},
   "source": [
    "Table\n",
    "===========================\n",
    "\n",
    "This example finds and optimized seating arrangement for a dinner party.\n",
    "The variables are the chairs and the labels are the persons.\n",
    "The unary factors encode how much each person likes each chair.\n",
    "The binary factors encode how much each person likes the person next to them.\n",
    "The contraints ensure that a person can only sit on one chair"
   ]
  },
  {
   "cell_type": "code",
   "execution_count": null,
   "id": "0b165428-2422-44a4-b54f-7933463495a4",
   "metadata": {},
   "outputs": [],
   "source": [
    "from __future__ import annotations\n",
    "\n",
    "import numpy as np\n",
    "import nxtgm\n",
    "# this example assume there are less or qual number of seats than persons\n",
    "n_persons = 15\n",
    "n_seats = 10\n",
    "assert n_seats <= n_persons\n",
    "np.random.seed(0)"
   ]
  },
  {
   "cell_type": "markdown",
   "id": "9368979f-28b4-428e-bba6-118a486c345b",
   "metadata": {},
   "source": [
    "each person can prefer a table position\n",
    "we will encode this as a n_persons x n_seats matrix"
   ]
  },
  {
   "cell_type": "code",
   "execution_count": null,
   "id": "c9e8b6fc-3427-4bb0-b1b3-8d3dd1452fdb",
   "metadata": {},
   "outputs": [],
   "source": [
    "person_seat_preference = np.random.rand(n_persons, n_seats) * 2 - 1"
   ]
  },
  {
   "cell_type": "markdown",
   "id": "82dd66c0-98ea-4729-add3-f139396babc2",
   "metadata": {},
   "source": [
    " n_persons x n_persons matrix to encode how much each person\n",
    "likes each other person. The eneries are in [-1 , 1]  where -1 means they hate each other and 1 means they love each other.\n",
    " 0 means they are indifferent"
   ]
  },
  {
   "cell_type": "code",
   "execution_count": null,
   "id": "600ca9b1-e5c4-426f-bcca-4afd0acad7d7",
   "metadata": {},
   "outputs": [],
   "source": [
    "person_person_preference = np.random.rand(n_persons, n_persons) * 2 - 1\n",
    "person_person_preference = (\n",
    "    person_person_preference + person_person_preference.T\n",
    ") / 2"
   ]
  },
  {
   "cell_type": "markdown",
   "id": "68357938-86f8-4cfa-9e72-5c7199291d77",
   "metadata": {},
   "source": [
    "create a graphical model with n_seats variables\n",
    "each variable can have n_persons labels"
   ]
  },
  {
   "cell_type": "code",
   "execution_count": null,
   "id": "33a9d577-d80f-4cb4-b139-8cdd8a51e36d",
   "metadata": {},
   "outputs": [],
   "source": [
    "gm = nxtgm.DiscreteGm(num_var=n_seats, num_labels=n_persons)"
   ]
  },
  {
   "cell_type": "markdown",
   "id": "e255e2c9-3032-4b16-9c9e-f88e1a28b8cb",
   "metadata": {},
   "source": [
    "add a unary factor for each seat\n",
    "the unary factor encodes how much each person likes each seat"
   ]
  },
  {
   "cell_type": "code",
   "execution_count": null,
   "id": "b3c4b4f7-9ec7-4b8a-a591-133e55138b7d",
   "metadata": {},
   "outputs": [],
   "source": [
    "for seat in range(n_seats):\n",
    "\n",
    "    values = person_seat_preference[:, seat]\n",
    "    assert values.shape == (n_persons,)\n",
    "    function_id = gm.add_function(values)\n",
    "    gm.add_factor([seat], function_id)"
   ]
  },
  {
   "cell_type": "markdown",
   "id": "af020198-7e0d-49bb-a72a-3ce21e471ce0",
   "metadata": {},
   "source": [
    "Add a binary factor for neighboring seats.\n",
    "The binary factor encodes how much each person likes the person next to them\n",
    "we assume a round tablel.\n",
    "The value table for the binary factor is a n_persons x n_persons matrix\n",
    "and is the same for all binary factors"
   ]
  },
  {
   "cell_type": "code",
   "execution_count": null,
   "id": "69c47203-9aef-40a7-ad9e-ab1b3758c9c1",
   "metadata": {},
   "outputs": [],
   "source": [
    "function_id = gm.add_function(person_person_preference)\n",
    "\n",
    "for seat in range(n_seats):\n",
    "\n",
    "    left_seat = seat - 1\n",
    "    if left_seat < 0:\n",
    "        left_seat = n_seats - 1\n",
    "\n",
    "    right_seat = seat + 1\n",
    "    if right_seat >= n_seats:\n",
    "        right_seat = 0\n",
    "\n",
    "    # left seat\n",
    "    variables = [seat, left_seat]\n",
    "    gm.add_factor(variables, function_id)\n",
    "\n",
    "    # right seat\n",
    "    variables = [seat, right_seat]\n",
    "    gm.add_factor(variables, function_id)"
   ]
  },
  {
   "cell_type": "markdown",
   "id": "6fdf0b58-2144-4d27-9865-adb95e04f9cc",
   "metadata": {},
   "source": [
    "constraints so that each person is only seated once\n",
    "so we need a constraint for each pair of seats"
   ]
  },
  {
   "cell_type": "code",
   "execution_count": null,
   "id": "326305bf-288d-495b-ac94-8f4a061c007d",
   "metadata": {},
   "outputs": [],
   "source": [
    "constraint_function = nxtgm.UniqueLables(\n",
    "    arity=gm.num_variables, num_labels=n_persons,\n",
    ")\n",
    "constrain_function_id = gm.add_constraint_function(constraint_function)\n",
    "variables = list(range(gm.num_variables))\n",
    "gm.add_constraint(variables, constrain_function_id);"
   ]
  },
  {
   "cell_type": "markdown",
   "id": "bc43e517-59fd-4630-966d-8ca09765f0bb",
   "metadata": {},
   "source": [
    "optimize with an ILP solver"
   ]
  },
  {
   "cell_type": "code",
   "execution_count": null,
   "id": "6d9ca3ba-94ab-439d-8a10-9eab1ceae241",
   "metadata": {},
   "outputs": [],
   "source": [
    "parameters = dict()\n",
    "optimizer = nxtgm.discrete_gm_optimizer_factory(gm, 'ilp_based', parameters)\n",
    "callack = nxtgm.DiscreteGmOptimizerReporterCallback(optimizer)\n",
    "optimizer.optimize(callack)\n",
    "best_solution = optimizer.best_solution();"
   ]
  },
  {
   "cell_type": "code",
   "execution_count": null,
   "id": "ae450b25-8bc0-456b-adea-d38592f719cc",
   "metadata": {},
   "outputs": [],
   "source": [
    "print(best_solution)"
   ]
  },
  {
   "cell_type": "code",
   "execution_count": null,
   "id": "b944406e-bdfc-4bc5-8301-c04f907a1302",
   "metadata": {},
   "outputs": [],
   "source": []
  }
 ],
 "metadata": {
  "kernelspec": {
   "display_name": "Python 3 (ipykernel)",
   "language": "python",
   "name": "python3"
  },
  "language_info": {
   "codemirror_mode": {
    "name": "ipython",
    "version": 3
   },
   "file_extension": ".py",
   "mimetype": "text/x-python",
   "name": "python",
   "nbconvert_exporter": "python",
   "pygments_lexer": "ipython3",
   "version": "3.12.0"
  }
 },
 "nbformat": 4,
 "nbformat_minor": 5
}
